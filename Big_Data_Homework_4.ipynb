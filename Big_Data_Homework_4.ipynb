{
  "nbformat": 4,
  "nbformat_minor": 0,
  "metadata": {
    "colab": {
      "name": "Big Data - Homework 4",
      "version": "0.3.2",
      "provenance": [],
      "collapsed_sections": [],
      "include_colab_link": true
    },
    "kernelspec": {
      "name": "python3",
      "display_name": "Python 3"
    }
  },
  "cells": [
    {
      "cell_type": "markdown",
      "metadata": {
        "id": "view-in-github",
        "colab_type": "text"
      },
      "source": [
        "<a href=\"https://colab.research.google.com/github/LYQ7220/Travelling-Salesman-Problem-TSP-/blob/master/Big_Data_Homework_4.ipynb\" target=\"_parent\"><img src=\"https://colab.research.google.com/assets/colab-badge.svg\" alt=\"Open In Colab\"/></a>"
      ]
    },
    {
      "metadata": {
        "id": "o_1yZQzBOHwO",
        "colab_type": "text"
      },
      "cell_type": "markdown",
      "source": [
        "#Ingest"
      ]
    },
    {
      "metadata": {
        "id": "VhvkiSnxNwVd",
        "colab_type": "code",
        "colab": {}
      },
      "cell_type": "code",
      "source": [
        "import pandas as pd"
      ],
      "execution_count": 0,
      "outputs": []
    },
    {
      "metadata": {
        "id": "HsX0LEzPN3TM",
        "colab_type": "code",
        "colab": {}
      },
      "cell_type": "code",
      "source": [
        "df = pd.read_csv(\"https://gist.githubusercontent.com/mbostock/9535021/raw/902265051e775cd35a6aa6307a23070f739ebed1/us-state-capitals.csv\")"
      ],
      "execution_count": 0,
      "outputs": []
    },
    {
      "metadata": {
        "id": "W8ev6DB-ODy7",
        "colab_type": "code",
        "outputId": "3df97ad3-622b-4d44-f9fd-e21ca4630a53",
        "colab": {
          "base_uri": "https://localhost:8080/",
          "height": 195
        }
      },
      "cell_type": "code",
      "source": [
        "df.head()"
      ],
      "execution_count": 0,
      "outputs": [
        {
          "output_type": "execute_result",
          "data": {
            "text/html": [
              "<div>\n",
              "<style scoped>\n",
              "    .dataframe tbody tr th:only-of-type {\n",
              "        vertical-align: middle;\n",
              "    }\n",
              "\n",
              "    .dataframe tbody tr th {\n",
              "        vertical-align: top;\n",
              "    }\n",
              "\n",
              "    .dataframe thead th {\n",
              "        text-align: right;\n",
              "    }\n",
              "</style>\n",
              "<table border=\"1\" class=\"dataframe\">\n",
              "  <thead>\n",
              "    <tr style=\"text-align: right;\">\n",
              "      <th></th>\n",
              "      <th>name</th>\n",
              "      <th>description</th>\n",
              "      <th>latitude</th>\n",
              "      <th>longitude</th>\n",
              "    </tr>\n",
              "  </thead>\n",
              "  <tbody>\n",
              "    <tr>\n",
              "      <th>0</th>\n",
              "      <td>Alabama</td>\n",
              "      <td>Montgomery</td>\n",
              "      <td>32.377716</td>\n",
              "      <td>-86.300568</td>\n",
              "    </tr>\n",
              "    <tr>\n",
              "      <th>1</th>\n",
              "      <td>Alaska</td>\n",
              "      <td>Juneau</td>\n",
              "      <td>58.301598</td>\n",
              "      <td>-134.420212</td>\n",
              "    </tr>\n",
              "    <tr>\n",
              "      <th>2</th>\n",
              "      <td>Arizona</td>\n",
              "      <td>Phoenix</td>\n",
              "      <td>33.448143</td>\n",
              "      <td>-112.096962</td>\n",
              "    </tr>\n",
              "    <tr>\n",
              "      <th>3</th>\n",
              "      <td>Arkansas</td>\n",
              "      <td>Little Rock</td>\n",
              "      <td>34.746613</td>\n",
              "      <td>-92.288986</td>\n",
              "    </tr>\n",
              "    <tr>\n",
              "      <th>4</th>\n",
              "      <td>California</td>\n",
              "      <td>Sacramento</td>\n",
              "      <td>38.576668</td>\n",
              "      <td>-121.493629</td>\n",
              "    </tr>\n",
              "  </tbody>\n",
              "</table>\n",
              "</div>"
            ],
            "text/plain": [
              "         name  description   latitude   longitude\n",
              "0     Alabama   Montgomery  32.377716  -86.300568\n",
              "1      Alaska       Juneau  58.301598 -134.420212\n",
              "2     Arizona      Phoenix  33.448143 -112.096962\n",
              "3    Arkansas  Little Rock  34.746613  -92.288986\n",
              "4  California   Sacramento  38.576668 -121.493629"
            ]
          },
          "metadata": {
            "tags": []
          },
          "execution_count": 4
        }
      ]
    },
    {
      "metadata": {
        "id": "n4tDwWzUQ87b",
        "colab_type": "text"
      },
      "cell_type": "markdown",
      "source": [
        "#Create necessary classes and functions"
      ]
    },
    {
      "metadata": {
        "id": "noTkx2v8ROoZ",
        "colab_type": "text"
      },
      "cell_type": "markdown",
      "source": [
        "##Create class to handle \"cities\""
      ]
    },
    {
      "metadata": {
        "id": "CwbRC-PcQ-Zb",
        "colab_type": "code",
        "colab": {}
      },
      "cell_type": "code",
      "source": [
        "import numpy as np, random, operator, pandas as pd, matplotlib.pyplot as plt"
      ],
      "execution_count": 0,
      "outputs": []
    },
    {
      "metadata": {
        "id": "7ae8qoDgRFX5",
        "colab_type": "code",
        "colab": {}
      },
      "cell_type": "code",
      "source": [
        "class City:\n",
        "    def __init__(self, x, y):\n",
        "        self.x = x\n",
        "        self.y = y\n",
        "    \n",
        "    def distance(self, city):\n",
        "        xDis = abs(self.x - city.x)\n",
        "        yDis = abs(self.y - city.y)\n",
        "        distance = np.sqrt((xDis ** 2) + (yDis ** 2))\n",
        "        return distance\n",
        "    \n",
        "    def __repr__(self):\n",
        "        return \"(\" + str(self.x) + \",\" + str(self.y) + \")\""
      ],
      "execution_count": 0,
      "outputs": []
    },
    {
      "metadata": {
        "id": "jByaf-w7STW7",
        "colab_type": "text"
      },
      "cell_type": "markdown",
      "source": [
        "##Create cityList containing lat/long for US state capitols"
      ]
    },
    {
      "metadata": {
        "id": "NZbuTewsOSad",
        "colab_type": "code",
        "colab": {}
      },
      "cell_type": "code",
      "source": [
        "cityList = []\n",
        "\n",
        "for i in range(0,len(df)):\n",
        "    cityList.append(City(x = round(float(df.iloc[i,[2]]),2), y = round(float(df.iloc[i,[3]]),2)))"
      ],
      "execution_count": 0,
      "outputs": []
    },
    {
      "metadata": {
        "id": "VCzJgx8-QL9Z",
        "colab_type": "code",
        "colab": {}
      },
      "cell_type": "code",
      "source": [
        "cityList"
      ],
      "execution_count": 0,
      "outputs": []
    },
    {
      "metadata": {
        "id": "_2JQ7tfUSo7t",
        "colab_type": "text"
      },
      "cell_type": "markdown",
      "source": [
        "##Create a fitness function"
      ]
    },
    {
      "metadata": {
        "id": "u3pkKAdBStUW",
        "colab_type": "code",
        "colab": {}
      },
      "cell_type": "code",
      "source": [
        "class Fitness:\n",
        "    def __init__(self, route):\n",
        "        self.route = route\n",
        "        self.distance = 0\n",
        "        self.fitness= 0.0\n",
        "    \n",
        "    def routeDistance(self):\n",
        "        if self.distance ==0:\n",
        "            pathDistance = 0\n",
        "            for i in range(0, len(self.route)):\n",
        "                fromCity = self.route[i]\n",
        "                toCity = None\n",
        "                if i + 1 < len(self.route):\n",
        "                    toCity = self.route[i + 1]\n",
        "                else:\n",
        "                    toCity = self.route[0]\n",
        "                pathDistance += fromCity.distance(toCity)\n",
        "            self.distance = pathDistance\n",
        "        return self.distance\n",
        "    \n",
        "    def routeFitness(self):\n",
        "        if self.fitness == 0:\n",
        "            self.fitness = 1 / float(self.routeDistance())\n",
        "        return self.fitness"
      ],
      "execution_count": 0,
      "outputs": []
    },
    {
      "metadata": {
        "id": "K2H2moMHTGYY",
        "colab_type": "text"
      },
      "cell_type": "markdown",
      "source": [
        "#Create our initial population"
      ]
    },
    {
      "metadata": {
        "id": "qG9wRU_pTLop",
        "colab_type": "text"
      },
      "cell_type": "markdown",
      "source": [
        "##Route generator"
      ]
    },
    {
      "metadata": {
        "id": "gFwevAuKTJEJ",
        "colab_type": "code",
        "colab": {}
      },
      "cell_type": "code",
      "source": [
        "def createRoute(cityList):\n",
        "    route = random.sample(cityList, len(cityList))\n",
        "    return route"
      ],
      "execution_count": 0,
      "outputs": []
    },
    {
      "metadata": {
        "id": "G_4kEtTrTN9G",
        "colab_type": "text"
      },
      "cell_type": "markdown",
      "source": [
        "##Create first \"population\" (list of routes)"
      ]
    },
    {
      "metadata": {
        "id": "iceQrh8wTQXI",
        "colab_type": "code",
        "colab": {}
      },
      "cell_type": "code",
      "source": [
        "def initialPopulation(popSize, cityList):\n",
        "    population = []\n",
        "\n",
        "    for i in range(0, popSize):\n",
        "        population.append(createRoute(cityList))\n",
        "    return population"
      ],
      "execution_count": 0,
      "outputs": []
    },
    {
      "metadata": {
        "id": "CM2nEsELTShM",
        "colab_type": "text"
      },
      "cell_type": "markdown",
      "source": [
        "#Create the genetic algorithm"
      ]
    },
    {
      "metadata": {
        "id": "FuoRrIdSTVbm",
        "colab_type": "text"
      },
      "cell_type": "markdown",
      "source": [
        "##Rank individuals"
      ]
    },
    {
      "metadata": {
        "id": "on5xI0rNTXxQ",
        "colab_type": "code",
        "colab": {}
      },
      "cell_type": "code",
      "source": [
        "def rankRoutes(population):\n",
        "    fitnessResults = {}\n",
        "    for i in range(0,len(population)):\n",
        "        fitnessResults[i] = Fitness(population[i]).routeFitness()\n",
        "    return sorted(fitnessResults.items(), key = operator.itemgetter(1), reverse = True)"
      ],
      "execution_count": 0,
      "outputs": []
    },
    {
      "metadata": {
        "id": "84obBWH9TZUZ",
        "colab_type": "text"
      },
      "cell_type": "markdown",
      "source": [
        "##Create a selection function that will be used to make the list of parent routes"
      ]
    },
    {
      "metadata": {
        "id": "rwC49rOWTbGz",
        "colab_type": "code",
        "colab": {}
      },
      "cell_type": "code",
      "source": [
        "def selection(popRanked, eliteSize):\n",
        "    selectionResults = []\n",
        "    df = pd.DataFrame(np.array(popRanked), columns=[\"Index\",\"Fitness\"])\n",
        "    df['cum_sum'] = df.Fitness.cumsum()\n",
        "    df['cum_perc'] = 100*df.cum_sum/df.Fitness.sum()\n",
        "    \n",
        "    for i in range(0, eliteSize):\n",
        "        selectionResults.append(popRanked[i][0])\n",
        "    for i in range(0, len(popRanked) - eliteSize):\n",
        "        pick = 100*random.random()\n",
        "        for i in range(0, len(popRanked)):\n",
        "            if pick <= df.iat[i,3]:\n",
        "                selectionResults.append(popRanked[i][0])\n",
        "                break\n",
        "    return selectionResults"
      ],
      "execution_count": 0,
      "outputs": []
    },
    {
      "metadata": {
        "id": "yHiXEpMzTdps",
        "colab_type": "text"
      },
      "cell_type": "markdown",
      "source": [
        "##Create mating pool"
      ]
    },
    {
      "metadata": {
        "id": "o_n-JmBMTfdj",
        "colab_type": "code",
        "colab": {}
      },
      "cell_type": "code",
      "source": [
        "def matingPool(population, selectionResults):\n",
        "    matingpool = []\n",
        "    for i in range(0, len(selectionResults)):\n",
        "        index = selectionResults[i]\n",
        "        matingpool.append(population[index])\n",
        "    return matingpool"
      ],
      "execution_count": 0,
      "outputs": []
    },
    {
      "metadata": {
        "id": "gbbqmcl1Tg_A",
        "colab_type": "text"
      },
      "cell_type": "markdown",
      "source": [
        "##Create a crossover function for two parents to create one child"
      ]
    },
    {
      "metadata": {
        "id": "sUUWWZvsTjJT",
        "colab_type": "code",
        "colab": {}
      },
      "cell_type": "code",
      "source": [
        "def breed(parent1, parent2):\n",
        "    child = []\n",
        "    childP1 = []\n",
        "    childP2 = []\n",
        "    \n",
        "    geneA = int(random.random() * len(parent1))\n",
        "    geneB = int(random.random() * len(parent1))\n",
        "    \n",
        "    startGene = min(geneA, geneB)\n",
        "    endGene = max(geneA, geneB)\n",
        "\n",
        "    for i in range(startGene, endGene):\n",
        "        childP1.append(parent1[i])\n",
        "        \n",
        "    childP2 = [item for item in parent2 if item not in childP1]\n",
        "\n",
        "    child = childP1 + childP2\n",
        "    return child"
      ],
      "execution_count": 0,
      "outputs": []
    },
    {
      "metadata": {
        "id": "NnCyQ94-Tle8",
        "colab_type": "text"
      },
      "cell_type": "markdown",
      "source": [
        "##Create function to run crossover over full mating pool"
      ]
    },
    {
      "metadata": {
        "id": "_FQWls_KTnv_",
        "colab_type": "code",
        "colab": {}
      },
      "cell_type": "code",
      "source": [
        "def breedPopulation(matingpool, eliteSize):\n",
        "    children = []\n",
        "    length = len(matingpool) - eliteSize\n",
        "    pool = random.sample(matingpool, len(matingpool))\n",
        "\n",
        "    for i in range(0,eliteSize):\n",
        "        children.append(matingpool[i])\n",
        "    \n",
        "    for i in range(0, length):\n",
        "        child = breed(pool[i], pool[len(matingpool)-i-1])\n",
        "        children.append(child)\n",
        "    return children"
      ],
      "execution_count": 0,
      "outputs": []
    },
    {
      "metadata": {
        "id": "sId_J-PjTqlA",
        "colab_type": "text"
      },
      "cell_type": "markdown",
      "source": [
        "##Create function to mutate a single route"
      ]
    },
    {
      "metadata": {
        "id": "htUEatoGTsiK",
        "colab_type": "code",
        "colab": {}
      },
      "cell_type": "code",
      "source": [
        "def mutate(individual, mutationRate):\n",
        "    for swapped in range(len(individual)):\n",
        "        if(random.random() < mutationRate):\n",
        "            swapWith = int(random.random() * len(individual))\n",
        "            \n",
        "            city1 = individual[swapped]\n",
        "            city2 = individual[swapWith]\n",
        "            \n",
        "            individual[swapped] = city2\n",
        "            individual[swapWith] = city1\n",
        "    return individual"
      ],
      "execution_count": 0,
      "outputs": []
    },
    {
      "metadata": {
        "id": "z3HeSLp0TuEY",
        "colab_type": "text"
      },
      "cell_type": "markdown",
      "source": [
        "##Create function to run mutation over entire population"
      ]
    },
    {
      "metadata": {
        "id": "mz9GInCGTwHH",
        "colab_type": "code",
        "colab": {}
      },
      "cell_type": "code",
      "source": [
        "def mutatePopulation(population, mutationRate):\n",
        "    mutatedPop = []\n",
        "    \n",
        "    for ind in range(0, len(population)):\n",
        "        mutatedInd = mutate(population[ind], mutationRate)\n",
        "        mutatedPop.append(mutatedInd)\n",
        "    return mutatedPop"
      ],
      "execution_count": 0,
      "outputs": []
    },
    {
      "metadata": {
        "id": "Ao4okBa-TymG",
        "colab_type": "text"
      },
      "cell_type": "markdown",
      "source": [
        "##Put all steps together to create the next generation"
      ]
    },
    {
      "metadata": {
        "id": "aUwSo9acT08r",
        "colab_type": "code",
        "colab": {}
      },
      "cell_type": "code",
      "source": [
        "\n",
        "def nextGeneration(currentGen, eliteSize, mutationRate):\n",
        "    popRanked = rankRoutes(currentGen)\n",
        "    selectionResults = selection(popRanked, eliteSize)\n",
        "    matingpool = matingPool(currentGen, selectionResults)\n",
        "    children = breedPopulation(matingpool, eliteSize)\n",
        "    nextGeneration = mutatePopulation(children, mutationRate)\n",
        "    return nextGeneration"
      ],
      "execution_count": 0,
      "outputs": []
    },
    {
      "metadata": {
        "id": "rLdc5hXnT3Cv",
        "colab_type": "text"
      },
      "cell_type": "markdown",
      "source": [
        "##Final step: create the genetic algorithm"
      ]
    },
    {
      "metadata": {
        "id": "c_AGj_t7T6PZ",
        "colab_type": "code",
        "colab": {}
      },
      "cell_type": "code",
      "source": [
        "def geneticAlgorithm(population, popSize, eliteSize, mutationRate, generations):\n",
        "    pop = initialPopulation(popSize, population)\n",
        "    print(\"Initial distance: \" + str(1 / rankRoutes(pop)[0][1]))\n",
        "    \n",
        "    for i in range(0, generations):\n",
        "        pop = nextGeneration(pop, eliteSize, mutationRate)\n",
        "    \n",
        "    print(\"Final distance: \" + str(1 / rankRoutes(pop)[0][1]))\n",
        "    bestRouteIndex = rankRoutes(pop)[0][0]\n",
        "    bestRoute = pop[bestRouteIndex]\n",
        "    return bestRoute"
      ],
      "execution_count": 0,
      "outputs": []
    },
    {
      "metadata": {
        "id": "qIMMtAFoT-Dx",
        "colab_type": "text"
      },
      "cell_type": "markdown",
      "source": [
        "#Running the genetic algorithm"
      ]
    },
    {
      "metadata": {
        "id": "JxjI8QxAUDNz",
        "colab_type": "code",
        "outputId": "8376b617-e68f-4b50-e790-d74ffa6b60b0",
        "colab": {
          "base_uri": "https://localhost:8080/",
          "height": 890
        }
      },
      "cell_type": "code",
      "source": [
        "geneticAlgorithm(population=cityList, popSize=100, eliteSize=20, mutationRate=0.01, generations=500)"
      ],
      "execution_count": 0,
      "outputs": [
        {
          "output_type": "stream",
          "text": [
            "Initial distance: 925.3138946347851\n",
            "Final distance: 471.5582657238206\n"
          ],
          "name": "stdout"
        },
        {
          "output_type": "execute_result",
          "data": {
            "text/plain": [
              "[(35.49,-97.5),\n",
              " (30.27,-97.74),\n",
              " (38.58,-92.17),\n",
              " (40.81,-96.7),\n",
              " (41.59,-93.6),\n",
              " (39.05,-95.68),\n",
              " (46.59,-112.02),\n",
              " (40.78,-111.89),\n",
              " (44.94,-123.03),\n",
              " (58.3,-134.42),\n",
              " (47.04,-122.91),\n",
              " (38.58,-121.49),\n",
              " (43.62,-116.2),\n",
              " (39.16,-119.77),\n",
              " (21.31,-157.86),\n",
              " (33.45,-112.1),\n",
              " (35.68,-105.94),\n",
              " (39.74,-104.98),\n",
              " (41.14,-104.82),\n",
              " (44.37,-100.35),\n",
              " (39.77,-86.16),\n",
              " (42.73,-84.56),\n",
              " (30.44,-84.28),\n",
              " (39.96,-83.0),\n",
              " (38.34,-81.61),\n",
              " (39.16,-75.52),\n",
              " (44.26,-72.58),\n",
              " (41.76,-72.68),\n",
              " (42.65,-73.76),\n",
              " (41.83,-71.41),\n",
              " (36.17,-86.78),\n",
              " (37.54,-77.43),\n",
              " (33.75,-84.39),\n",
              " (44.96,-93.1),\n",
              " (43.07,-89.38),\n",
              " (46.82,-100.78),\n",
              " (32.3,-90.18),\n",
              " (30.46,-91.19),\n",
              " (32.38,-86.3),\n",
              " (39.8,-89.65),\n",
              " (34.75,-92.29),\n",
              " (38.19,-84.88),\n",
              " (40.22,-74.77),\n",
              " (35.78,-78.64),\n",
              " (44.31,-69.78),\n",
              " (38.98,-76.49),\n",
              " (42.36,-71.06),\n",
              " (43.21,-71.54),\n",
              " (40.26,-76.88),\n",
              " (34.0,-81.03)]"
            ]
          },
          "metadata": {
            "tags": []
          },
          "execution_count": 58
        }
      ]
    },
    {
      "metadata": {
        "id": "n1_XBOyEUMhI",
        "colab_type": "text"
      },
      "cell_type": "markdown",
      "source": [
        "#Plot the progress"
      ]
    },
    {
      "metadata": {
        "id": "sx_idHWkVKhf",
        "colab_type": "code",
        "colab": {}
      },
      "cell_type": "code",
      "source": [
        "def geneticAlgorithmPlot(population, popSize, eliteSize, mutationRate, generations):\n",
        "    pop = initialPopulation(popSize, population)\n",
        "    progress = []\n",
        "    progress.append(1 / rankRoutes(pop)[0][1])\n",
        "    \n",
        "    for i in range(0, generations):\n",
        "        pop = nextGeneration(pop, eliteSize, mutationRate)\n",
        "        progress.append(1 / rankRoutes(pop)[0][1])\n",
        "    \n",
        "    plt.plot(progress)\n",
        "    plt.ylabel('Distance')\n",
        "    plt.xlabel('Generation')\n",
        "    plt.show()"
      ],
      "execution_count": 0,
      "outputs": []
    },
    {
      "metadata": {
        "id": "dbbfGsmaVNeK",
        "colab_type": "code",
        "outputId": "822453a5-d3c5-4030-fa93-df77259dc641",
        "colab": {
          "base_uri": "https://localhost:8080/",
          "height": 361
        }
      },
      "cell_type": "code",
      "source": [
        "geneticAlgorithmPlot(population=cityList, popSize=100, eliteSize=20, mutationRate=0.01, generations=500)"
      ],
      "execution_count": 0,
      "outputs": [
        {
          "output_type": "display_data",
          "data": {
            "image/png": "[encoded data removed]",
            "text/plain": [
              "<Figure size 576x396 with 1 Axes>"
            ]
          },
          "metadata": {
            "tags": []
          }
        }
      ]
    }
  ]
}